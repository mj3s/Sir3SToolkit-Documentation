








import os
import re
import xml.etree.ElementTree as ET
import pandas as pd
import matplotlib.pyplot as plt
import random
import math
import sqlite3


import clr as net


net.AddReference(r"C:\3S\SIR 3S Entwicklung\SirGraf-90-15-00-06x64\Sir3S_Repository.Interfaces.dll") #change to local path


import PythonWrapperToolkit


from PythonWrapperToolkit import SIR3S_Model, SIR3S_View


s3s = PythonWrapperToolkit.SIR3S_Model()


import Sir3S_Repository.Interfaces as Interfaces





try:
    from PT3S import dxAndMxHelperFcts
except:
    import dxAndMxHelperFcts
dbFilename="Toolkit_Example1"
dbFile=os.path.join(os.path.dirname(os.path.abspath(dxAndMxHelperFcts.__file__))
                    +'/Examples'
                    +'/Toolkit_Examples/'
                    +dbFilename
                    +'.db3'
)


%%capture captured_output
s3s.NewModel(dbName=dbFile, 
                           providerType=Interfaces.SirDBProviderType.SQLite, 
                           namedInstance="", 
                           netType=Interfaces.NetworkType.DistrictHeating,
                           modelDescription="Toolkit_Example1",
                           userID="", 
                           password="")


output_str = captured_output.stdout


# Extract the first number between two hyphens from the output
match = re.search(r"New model is created with the model identifier: M-(\d+)-\d+-\d+", output_str)
if match:
    identifier_number = match.group(1)


m=1 #scaling factor for network








s3s.StartEditSession(SessionName="Insert nodes")

node0 = s3s.InsertElement(ElementType=Interfaces.Sir3SObjectTypes.Node)

node1 = s3s.InsertElement(ElementType=Interfaces.Sir3SObjectTypes.Node)

node2 = s3s.InsertElement(ElementType=Interfaces.Sir3SObjectTypes.Node)

node3 = s3s.InsertElement(ElementType=Interfaces.Sir3SObjectTypes.Node)

node4 = s3s.InsertElement(ElementType=Interfaces.Sir3SObjectTypes.Node)

node5 = s3s.InsertElement(ElementType=Interfaces.Sir3SObjectTypes.Node)

s3s.EndEditSession()
s3s.SaveChanges()


node_tks=s3s.GetTksofElementType(Interfaces.Sir3SObjectTypes.Node)





s3s.StartEditSession(SessionName="Set coords (x,y)")

s3s.SetValue(node0, 'Xkor', '0')
s3s.SetValue(node0, 'Ykor', str(m*25))

s3s.SetValue(node1, 'Xkor', str(m*100))
s3s.SetValue(node1, 'Ykor', str(m*25))

s3s.SetValue(node2, 'Xkor', str(m*125))
s3s.SetValue(node2, 'Ykor', str(m*50))

s3s.SetValue(node3, 'Xkor', str(m*125))
s3s.SetValue(node3, 'Ykor', '0')

s3s.SetValue(node4, 'Xkor', str(m*150))
s3s.SetValue(node4, 'Ykor', str(m*25))

s3s.SetValue(node5, 'Xkor', str(m*250))
s3s.SetValue(node5, 'Ykor', str(m*25))

s3s.EndEditSession()
s3s.SaveChanges()


s3s.StartEditSession(SessionName="Set coords (z)")

for node_tk in node_tks:
    s3s.SetValue(node_tk, "Zkor", "0")

s3s.EndEditSession()
s3s.SaveChanges()








s3s.StartEditSession(SessionName="Insert Pipes")

pipe01 = s3s.InsertElement(ElementType=Interfaces.Sir3SObjectTypes.Pipe)
s3s.ConnectConnectingElementWithNodes(pipe01, node0, node1)

pipe12 = s3s.InsertElement(ElementType=Interfaces.Sir3SObjectTypes.Pipe)
s3s.ConnectConnectingElementWithNodes(pipe12, node1, node2)

pipe13 = s3s.InsertElement(ElementType=Interfaces.Sir3SObjectTypes.Pipe)
s3s.ConnectConnectingElementWithNodes(pipe13, node1, node3)

pipe23 = s3s.InsertElement(ElementType=Interfaces.Sir3SObjectTypes.Pipe)
s3s.ConnectConnectingElementWithNodes(pipe23, node2, node3)

pipe24 = s3s.InsertElement(ElementType=Interfaces.Sir3SObjectTypes.Pipe)
s3s.ConnectConnectingElementWithNodes(pipe24, node2, node4)

pipe34 = s3s.InsertElement(ElementType=Interfaces.Sir3SObjectTypes.Pipe)
s3s.ConnectConnectingElementWithNodes(pipe34, node3, node4)

pipe45 = s3s.InsertElement(ElementType=Interfaces.Sir3SObjectTypes.Pipe)
s3s.ConnectConnectingElementWithNodes(pipe45, node4, node5)

s3s.EndEditSession()
s3s.SaveChanges()





s3s.StartEditSession(SessionName="Set pipe lengths")

s3s.SetValue(pipe01, 'L', str(m*100))

s3s.SetValue(pipe12, 'L', str(m*math.sqrt(2*math.pow(250,2))))

s3s.SetValue(pipe13, 'L', str(m*math.sqrt(2*math.pow(250,2))))

s3s.SetValue(pipe23, 'L', str(m*500))

s3s.SetValue(pipe24, 'L', str(m*math.sqrt(2*math.pow(250,2))))

s3s.SetValue(pipe34, 'L', str(m*math.sqrt(2*math.pow(250,2))))

s3s.SetValue(pipe45, 'L', str(m*100))

s3s.EndEditSession()
s3s.SaveChanges()


pipe_tks=s3s.GetTksofElementType(Interfaces.Sir3SObjectTypes.Pipe)











s3s.ExecCalculation(waitForSirCalcToExit=True) # this calculation will not be properly executed it serves to ensure a xml calculation file exists





xml_file_path=os.path.join(os.path.dirname(os.path.abspath(dxAndMxHelperFcts.__file__))
                    +'/Examples'
                    +'/Toolkit_Examples/WD'
                    +dbFilename
                    +'/B'
                    +identifier_number
                    +'\V0\BZ1\M-'
                    +identifier_number
                    +'-0-1.XML'
)


xml_file_path


try:
    tree = ET.parse(xml_file_path)
    root = tree.getroot()

    # Function to find and extract all DTRO_ROWD elements
    def extract_table_elements(element, table_name):
        return [child for child in element if child.tag == table_name]

    # Extract all DTRO_ROWD elements
    dtro_rowd_elements = extract_table_elements(root, "DTRO_ROWD")

    # Convert the DTRO_ROWD elements to a pandas DataFrame
    def elements_to_dataframe(elements):
        if not elements:
            print("The table is empty or not found.")
            return pd.DataFrame()
        
        rows = []
        columns = list(elements[0].attrib.keys())
        
        for elem in elements:
            row_data = list(elem.attrib.values())
            rows.append(row_data)
        
        df = pd.DataFrame(rows, columns=columns)
        return df

    # Convert the extracted elements to a DataFrame
    dtro_rowd_df = elements_to_dataframe(dtro_rowd_elements)
    
except FileNotFoundError:
    print("The specified file was not found.")
except ET.ParseError:
    print("Error parsing the XML file.")


for pipe_tk in pipe_tks:
    s3s.SetValue(pipe_tk, "FkdtroRowd", str(dtro_rowd_df.iloc[15]['pk'])) #DN 150
    print(s3s.GetValue(pipe_tk, "FkdtroRowd"))





s3s.StartEditSession(SessionName="Set Boundary Conditions")

s3s.SetValue(node0, "Ktyp", "PKON")
s3s.SetValue(node0, "bz.PhEin", "4")

s3s.SetValue(node1, "Ktyp", "QKON")
s3s.SetValue(node1, "QmEin", "0")

s3s.SetValue(node2, "Ktyp", "QKON")
s3s.SetValue(node2, "QmEin", "0")

s3s.SetValue(node3, "Ktyp", "QKON")
s3s.SetValue(node3, "QmEin", "0")

s3s.SetValue(node4, "Ktyp", "QKON")
s3s.SetValue(node4, "QmEin", "0")

s3s.SetValue(node5, "Ktyp", "PKON")
s3s.SetValue(node5, "bz.PhEin", "3")

s3s.EndEditSession()
s3s.SaveChanges()





s3s.ExecCalculation(waitForSirCalcToExit=True)


for node_tk in node_tks:
    print(f"Node {node_tk}: x: {s3s.GetValue(node_tk, 'Xkor')[0]}, y: {s3s.GetValue(node_tk, 'Ykor')[0]}, PH: {s3s.GetValue(node_tk, 'Result.PH.Value')[0]}, QM: {s3s.GetValue(node_tk, 'Result.QM.Value')[0]}")





def wipe_elements(instance):
    # Get lists of node and pipe IDs
    node_tks = instance.GetTksofElementType(ElementType=Interfaces.Sir3SObjectTypes.Node)
    pipe_tks = instance.GetTksofElementType(ElementType=Interfaces.Sir3SObjectTypes.Pipe)
    
    # Delete all nodes
    for node_tk in node_tks:
        instance.DeleteElement(node_tk)
    
    # Delete all pipes
    for pipe_tk in pipe_tks:
        instance.DeleteElement(pipe_tk)

wipe_elements(s3s)


s3s.SaveChanges()





s3s.GetPropertiesofElementType(Interfaces.Sir3SObjectTypes.Pipe)


s3s.GetPropertiesofElementType(Interfaces.Sir3SObjectTypes.Node)


pipe_tks=s3s.GetTksofElementType(Interfaces.Sir3SObjectTypes.Pipe)


node_tks=s3s.GetTksofElementType(Interfaces.Sir3SObjectTypes.Node)


dir(Interfaces.Sir3SObjectTypes)



