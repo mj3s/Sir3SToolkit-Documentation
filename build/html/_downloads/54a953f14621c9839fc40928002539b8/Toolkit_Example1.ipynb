{
 "cells": [
  {
   "cell_type": "markdown",
   "id": "3255a10d-c878-414b-adf8-3a0783370118",
   "metadata": {},
   "source": [
    "# Toolkit Example 1: Create new SIR 3S model"
   ]
  },
  {
   "cell_type": "raw",
   "id": "f6c53a45-cc22-45fe-a057-ccccf1b875d9",
   "metadata": {
    "vscode": {
     "languageId": "raw"
    }
   },
   "source": [
    "This example demonstrates how to set up a new SIR 3S model. Nodes and pipes are inserted and the model is calculated."
   ]
  },
  {
   "cell_type": "markdown",
   "id": "b8f35041-1c2c-4afb-841d-e0b3db4b2064",
   "metadata": {},
   "source": [
    "# Imports"
   ]
  },
  {
   "cell_type": "code",
   "execution_count": 1,
   "id": "a4e9f0d7-97b1-4baf-86c0-b65bb866c707",
   "metadata": {},
   "outputs": [],
   "source": [
    "import os\n",
    "import re\n",
    "import xml.etree.ElementTree as ET\n",
    "import pandas as pd\n",
    "import matplotlib.pyplot as plt\n",
    "import random\n",
    "import math\n",
    "import sqlite3"
   ]
  },
  {
   "cell_type": "code",
   "execution_count": 2,
   "id": "234d394f-6a9a-4b2d-9cec-77b210c61d2e",
   "metadata": {},
   "outputs": [],
   "source": [
    "import clr as net"
   ]
  },
  {
   "cell_type": "code",
   "execution_count": null,
   "id": "519ab605-78c2-48fc-994b-ab91c4f127da",
   "metadata": {},
   "outputs": [
    {
     "data": {
      "text/plain": [
       "<System.Reflection.RuntimeAssembly object at 0x000001F83449A180>"
      ]
     },
     "execution_count": 3,
     "metadata": {},
     "output_type": "execute_result"
    }
   ],
   "source": [
    "net.AddReference(r\"C:\\3S\\SIR 3S Entwicklung\\SirGraf-90-15-00-06x64\\Sir3S_Repository.Interfaces.dll\") #change to local path"
   ]
  },
  {
   "cell_type": "code",
   "execution_count": 4,
   "id": "a99bd291-8235-46ce-9ae5-83e712dd247b",
   "metadata": {},
   "outputs": [],
   "source": [
    "import PythonWrapperToolkit"
   ]
  },
  {
   "cell_type": "code",
   "execution_count": 5,
   "id": "670648cf-ef51-4ff2-8e37-9733b981e6f0",
   "metadata": {},
   "outputs": [],
   "source": [
    "from PythonWrapperToolkit import SIR3S_Model, SIR3S_View"
   ]
  },
  {
   "cell_type": "code",
   "execution_count": null,
   "id": "a07a1683-d504-438b-98e3-4d4c9a890d79",
   "metadata": {},
   "outputs": [
    {
     "name": "stdout",
     "output_type": "stream",
     "text": [
      "Initialization complete\n"
     ]
    }
   ],
   "source": [
    "s3s = PythonWrapperToolkit.SIR3S_Model()"
   ]
  },
  {
   "cell_type": "code",
   "execution_count": 7,
   "id": "17412053-1fe2-4b20-a4f1-6adf4c1cdf9a",
   "metadata": {},
   "outputs": [],
   "source": [
    "import Sir3S_Repository.Interfaces as Interfaces"
   ]
  },
  {
   "cell_type": "markdown",
   "id": "2fbdef1c-62b9-4ba1-93ee-345d52120021",
   "metadata": {},
   "source": [
    "# Create new model file"
   ]
  },
  {
   "cell_type": "code",
   "execution_count": null,
   "id": "d3e49ef8-ab66-4702-bf86-f58d2ac192ed",
   "metadata": {},
   "outputs": [],
   "source": [
    "try:\n",
    "    from PT3S import dxAndMxHelperFcts\n",
    "except:\n",
    "    import dxAndMxHelperFcts\n",
    "dbFilename=\"Toolkit_Example1\"\n",
    "dbFile=os.path.join(os.path.dirname(os.path.abspath(dxAndMxHelperFcts.__file__))\n",
    "                    +'/Examples'\n",
    "                    +'/Toolkit_Examples/'\n",
    "                    +dbFilename\n",
    "                    +'.db3'\n",
    ")"
   ]
  },
  {
   "cell_type": "code",
   "execution_count": null,
   "id": "9f7dab19-3f3c-49b1-9d66-f2b0b59a3ba4",
   "metadata": {},
   "outputs": [],
   "source": [
    "%%capture captured_output\n",
    "s3s.NewModel(dbName=dbFile, \n",
    "                           providerType=Interfaces.SirDBProviderType.SQLite, \n",
    "                           namedInstance=\"\", \n",
    "                           netType=Interfaces.NetworkType.DistrictHeating,\n",
    "                           modelDescription=\"Toolkit_Example1\",\n",
    "                           userID=\"\", \n",
    "                           password=\"\")"
   ]
  },
  {
   "cell_type": "code",
   "execution_count": 10,
   "id": "dc90440f-82f0-48aa-b51f-a82ed4d6484d",
   "metadata": {},
   "outputs": [],
   "source": [
    "output_str = captured_output.stdout"
   ]
  },
  {
   "cell_type": "code",
   "execution_count": 11,
   "id": "d5602727-6cbd-486d-a8a7-9a7985549b20",
   "metadata": {},
   "outputs": [],
   "source": [
    "# Extract the first number between two hyphens from the output\n",
    "match = re.search(r\"New model is created with the model identifier: M-(\\d+)-\\d+-\\d+\", output_str)\n",
    "if match:\n",
    "    identifier_number = match.group(1)"
   ]
  },
  {
   "cell_type": "code",
   "execution_count": 12,
   "id": "212fb56e-8a8e-4e95-b0d4-2cc489770204",
   "metadata": {},
   "outputs": [],
   "source": [
    "m=1 #scaling factor for network"
   ]
  },
  {
   "cell_type": "markdown",
   "id": "116a0b87-10aa-4fa7-a61e-ccf87ad0258c",
   "metadata": {},
   "source": [
    "# Nodes"
   ]
  },
  {
   "cell_type": "markdown",
   "id": "42d781c0-0951-450c-9158-53d289760a30",
   "metadata": {},
   "source": [
    "## Insert Nodes"
   ]
  },
  {
   "cell_type": "code",
   "execution_count": null,
   "id": "22899981-9f92-41b2-a8b9-d39e697cff9b",
   "metadata": {},
   "outputs": [
    {
     "name": "stdout",
     "output_type": "stream",
     "text": [
      "Now you can make changes to the model\n",
      "Element inserted successfully into the model with Tk: 5321099033247111201\n",
      "Element inserted successfully into the model with Tk: 4693279059508338015\n",
      "Element inserted successfully into the model with Tk: 5449145764669062959\n",
      "Element inserted successfully into the model with Tk: 5315913336781347732\n",
      "Element inserted successfully into the model with Tk: 5194369748158004646\n",
      "Element inserted successfully into the model with Tk: 5210570430448112064\n",
      "Edit Session has ended. Please open up a new session if you want to make further changes\n",
      "Changes saved successfully\n"
     ]
    }
   ],
   "source": [
    "s3s.StartEditSession(SessionName=\"Insert nodes\")\n",
    "\n",
    "node0 = s3s.InsertElement(ElementType=Interfaces.Sir3SObjectTypes.Node)\n",
    "\n",
    "node1 = s3s.InsertElement(ElementType=Interfaces.Sir3SObjectTypes.Node)\n",
    "\n",
    "node2 = s3s.InsertElement(ElementType=Interfaces.Sir3SObjectTypes.Node)\n",
    "\n",
    "node3 = s3s.InsertElement(ElementType=Interfaces.Sir3SObjectTypes.Node)\n",
    "\n",
    "node4 = s3s.InsertElement(ElementType=Interfaces.Sir3SObjectTypes.Node)\n",
    "\n",
    "node5 = s3s.InsertElement(ElementType=Interfaces.Sir3SObjectTypes.Node)\n",
    "\n",
    "s3s.EndEditSession()\n",
    "s3s.SaveChanges()"
   ]
  },
  {
   "cell_type": "code",
   "execution_count": null,
   "id": "1e5fb502-4d6f-4ea3-9fa8-84dc1a3b7f7c",
   "metadata": {},
   "outputs": [],
   "source": [
    "node_tks=s3s.GetTksofElementType(Interfaces.Sir3SObjectTypes.Node)"
   ]
  },
  {
   "cell_type": "markdown",
   "id": "dae86111-1594-4ac5-b6a1-c02c261c759f",
   "metadata": {},
   "source": [
    "## Set Coordinates"
   ]
  },
  {
   "cell_type": "code",
   "execution_count": null,
   "id": "f8b2455b-5afc-4eb8-ac9f-e50249f6a868",
   "metadata": {},
   "outputs": [
    {
     "name": "stdout",
     "output_type": "stream",
     "text": [
      "Now you can make changes to the model\n",
      "Value is set\n",
      "Value is set\n",
      "Value is set\n",
      "Value is set\n",
      "Value is set\n",
      "Value is set\n",
      "Value is set\n",
      "Value is set\n",
      "Value is set\n",
      "Value is set\n",
      "Value is set\n",
      "Value is set\n",
      "Nothing done, because no Transaction is being in Use\n",
      "Changes saved successfully\n"
     ]
    }
   ],
   "source": [
    "s3s.StartEditSession(SessionName=\"Set coords (x,y)\")\n",
    "\n",
    "s3s.SetValue(node0, 'Xkor', '0')\n",
    "s3s.SetValue(node0, 'Ykor', str(m*25))\n",
    "\n",
    "s3s.SetValue(node1, 'Xkor', str(m*100))\n",
    "s3s.SetValue(node1, 'Ykor', str(m*25))\n",
    "\n",
    "s3s.SetValue(node2, 'Xkor', str(m*125))\n",
    "s3s.SetValue(node2, 'Ykor', str(m*50))\n",
    "\n",
    "s3s.SetValue(node3, 'Xkor', str(m*125))\n",
    "s3s.SetValue(node3, 'Ykor', '0')\n",
    "\n",
    "s3s.SetValue(node4, 'Xkor', str(m*150))\n",
    "s3s.SetValue(node4, 'Ykor', str(m*25))\n",
    "\n",
    "s3s.SetValue(node5, 'Xkor', str(m*250))\n",
    "s3s.SetValue(node5, 'Ykor', str(m*25))\n",
    "\n",
    "s3s.EndEditSession()\n",
    "s3s.SaveChanges()"
   ]
  },
  {
   "cell_type": "code",
   "execution_count": null,
   "id": "52ee1549-e29a-4b25-8ed8-0b5ea4912950",
   "metadata": {},
   "outputs": [
    {
     "name": "stdout",
     "output_type": "stream",
     "text": [
      "Now you can make changes to the model\n",
      "Value is set\n",
      "Value is set\n",
      "Value is set\n",
      "Value is set\n",
      "Value is set\n",
      "Value is set\n",
      "Edit Session has ended. Please open up a new session if you want to make further changes\n",
      "Changes saved successfully\n"
     ]
    }
   ],
   "source": [
    "s3s.StartEditSession(SessionName=\"Set coords (z)\")\n",
    "\n",
    "for node_tk in node_tks:\n",
    "    s3s.SetValue(node_tk, \"Zkor\", \"0\")\n",
    "\n",
    "s3s.EndEditSession()\n",
    "s3s.SaveChanges()"
   ]
  },
  {
   "cell_type": "markdown",
   "id": "246322bf-6751-4231-b419-2f414597abed",
   "metadata": {},
   "source": [
    "# Pipes"
   ]
  },
  {
   "cell_type": "markdown",
   "id": "2390276a-7be4-4e86-88a0-8bb98c1f19b9",
   "metadata": {},
   "source": [
    "## Insert Pipes"
   ]
  },
  {
   "cell_type": "code",
   "execution_count": null,
   "id": "1a814c7a-b4de-4990-a0a2-e58cf9588958",
   "metadata": {},
   "outputs": [
    {
     "name": "stdout",
     "output_type": "stream",
     "text": [
      "Now you can make changes to the model\n",
      "Element inserted successfully into the model with Tk: 5293401913306684493\n",
      "Objects connected successfully\n",
      "Element inserted successfully into the model with Tk: 5088758886343064810\n",
      "Objects connected successfully\n",
      "Element inserted successfully into the model with Tk: 5586333943805392557\n",
      "Objects connected successfully\n",
      "Element inserted successfully into the model with Tk: 4642718115365895174\n",
      "Objects connected successfully\n",
      "Element inserted successfully into the model with Tk: 5609337679797668537\n",
      "Objects connected successfully\n",
      "Element inserted successfully into the model with Tk: 4681734429769829334\n",
      "Objects connected successfully\n",
      "Element inserted successfully into the model with Tk: 4706393255563735279\n",
      "Objects connected successfully\n",
      "Edit Session has ended. Please open up a new session if you want to make further changes\n",
      "Changes saved successfully\n"
     ]
    }
   ],
   "source": [
    "s3s.StartEditSession(SessionName=\"Insert Pipes\")\n",
    "\n",
    "pipe01 = s3s.InsertElement(ElementType=Interfaces.Sir3SObjectTypes.Pipe)\n",
    "s3s.ConnectConnectingElementWithNodes(pipe01, node0, node1)\n",
    "\n",
    "pipe12 = s3s.InsertElement(ElementType=Interfaces.Sir3SObjectTypes.Pipe)\n",
    "s3s.ConnectConnectingElementWithNodes(pipe12, node1, node2)\n",
    "\n",
    "pipe13 = s3s.InsertElement(ElementType=Interfaces.Sir3SObjectTypes.Pipe)\n",
    "s3s.ConnectConnectingElementWithNodes(pipe13, node1, node3)\n",
    "\n",
    "pipe23 = s3s.InsertElement(ElementType=Interfaces.Sir3SObjectTypes.Pipe)\n",
    "s3s.ConnectConnectingElementWithNodes(pipe23, node2, node3)\n",
    "\n",
    "pipe24 = s3s.InsertElement(ElementType=Interfaces.Sir3SObjectTypes.Pipe)\n",
    "s3s.ConnectConnectingElementWithNodes(pipe24, node2, node4)\n",
    "\n",
    "pipe34 = s3s.InsertElement(ElementType=Interfaces.Sir3SObjectTypes.Pipe)\n",
    "s3s.ConnectConnectingElementWithNodes(pipe34, node3, node4)\n",
    "\n",
    "pipe45 = s3s.InsertElement(ElementType=Interfaces.Sir3SObjectTypes.Pipe)\n",
    "s3s.ConnectConnectingElementWithNodes(pipe45, node4, node5)\n",
    "\n",
    "s3s.EndEditSession()\n",
    "s3s.SaveChanges()"
   ]
  },
  {
   "cell_type": "markdown",
   "id": "08719125-35a4-45fd-84b5-26abd3365d8d",
   "metadata": {},
   "source": [
    "## Set Length"
   ]
  },
  {
   "cell_type": "code",
   "execution_count": null,
   "id": "a33bce20-1540-44ca-a7ba-909dc36efb53",
   "metadata": {},
   "outputs": [
    {
     "name": "stdout",
     "output_type": "stream",
     "text": [
      "Now you can make changes to the model\n",
      "Value is set\n",
      "Value is set\n",
      "Value is set\n",
      "Value is set\n",
      "Value is set\n",
      "Value is set\n",
      "Value is set\n",
      "Edit Session has ended. Please open up a new session if you want to make further changes\n",
      "Changes saved successfully\n"
     ]
    }
   ],
   "source": [
    "s3s.StartEditSession(SessionName=\"Set pipe lengths\")\n",
    "\n",
    "s3s.SetValue(pipe01, 'L', str(m*100))\n",
    "\n",
    "s3s.SetValue(pipe12, 'L', str(m*math.sqrt(2*math.pow(250,2))))\n",
    "\n",
    "s3s.SetValue(pipe13, 'L', str(m*math.sqrt(2*math.pow(250,2))))\n",
    "\n",
    "s3s.SetValue(pipe23, 'L', str(m*500))\n",
    "\n",
    "s3s.SetValue(pipe24, 'L', str(m*math.sqrt(2*math.pow(250,2))))\n",
    "\n",
    "s3s.SetValue(pipe34, 'L', str(m*math.sqrt(2*math.pow(250,2))))\n",
    "\n",
    "s3s.SetValue(pipe45, 'L', str(m*100))\n",
    "\n",
    "s3s.EndEditSession()\n",
    "s3s.SaveChanges()"
   ]
  },
  {
   "cell_type": "code",
   "execution_count": null,
   "id": "32b0ff1e-99a0-4e70-9c84-769e7502dd71",
   "metadata": {},
   "outputs": [],
   "source": [
    "pipe_tks=s3s.GetTksofElementType(Interfaces.Sir3SObjectTypes.Pipe)"
   ]
  },
  {
   "cell_type": "markdown",
   "id": "c1b271a1-976e-4908-8dbd-dbf3c3a2813a",
   "metadata": {},
   "source": [
    "## Set DN (Workaround)"
   ]
  },
  {
   "cell_type": "markdown",
   "id": "a667570b",
   "metadata": {},
   "source": [
    "The following way of setting the reference to DN values is only a workaround. Hopefully a better way using the Toolkit can be applied in the future."
   ]
  },
  {
   "cell_type": "markdown",
   "id": "00d7dd30-e981-4fb0-8b65-4d4b054069d5",
   "metadata": {},
   "source": [
    "### Trigger First Calculation "
   ]
  },
  {
   "cell_type": "code",
   "execution_count": null,
   "id": "ed5ddfc7-4718-482e-b8ba-43e5dd76ec77",
   "metadata": {},
   "outputs": [
    {
     "name": "stdout",
     "output_type": "stream",
     "text": [
      "Model Calculation is complete\n"
     ]
    }
   ],
   "source": [
    "s3s.ExecCalculation(waitForSirCalcToExit=True) # this calculation will not be properly executed it serves to ensure a xml calculation file exists"
   ]
  },
  {
   "cell_type": "markdown",
   "id": "c2c6b376-bbf7-43cc-85b3-ce81a436f43e",
   "metadata": {},
   "source": [
    "### Read Calculation XML file"
   ]
  },
  {
   "cell_type": "code",
   "execution_count": null,
   "id": "58aee5bf-4756-4b00-b082-f8ba4c69b422",
   "metadata": {},
   "outputs": [],
   "source": [
    "xml_file_path=os.path.join(os.path.dirname(os.path.abspath(dxAndMxHelperFcts.__file__))\n",
    "                    +'/Examples'\n",
    "                    +'/Toolkit_Examples/WD'\n",
    "                    +dbFilename\n",
    "                    +'/B'\n",
    "                    +identifier_number\n",
    "                    +'\\V0\\BZ1\\M-'\n",
    "                    +identifier_number\n",
    "                    +'-0-1.XML'\n",
    ")"
   ]
  },
  {
   "cell_type": "code",
   "execution_count": 22,
   "id": "b765e368-6229-4b42-bbc5-f30a09a573a2",
   "metadata": {},
   "outputs": [
    {
     "data": {
      "text/plain": [
       "'c:\\\\users\\\\jablonski\\\\3s\\\\pt3s/Examples/Toolkit_Created_Models/WDNew_Toolkit_Example1/B3\\\\V0\\\\BZ1\\\\M-3-0-1.XML'"
      ]
     },
     "execution_count": 22,
     "metadata": {},
     "output_type": "execute_result"
    }
   ],
   "source": [
    "xml_file_path"
   ]
  },
  {
   "cell_type": "code",
   "execution_count": 23,
   "id": "11d09b5d-cdb9-4da3-81c5-3cd1fbb8ff83",
   "metadata": {},
   "outputs": [],
   "source": [
    "try:\n",
    "    tree = ET.parse(xml_file_path)\n",
    "    root = tree.getroot()\n",
    "\n",
    "    # Function to find and extract all DTRO_ROWD elements\n",
    "    def extract_table_elements(element, table_name):\n",
    "        return [child for child in element if child.tag == table_name]\n",
    "\n",
    "    # Extract all DTRO_ROWD elements\n",
    "    dtro_rowd_elements = extract_table_elements(root, \"DTRO_ROWD\")\n",
    "\n",
    "    # Convert the DTRO_ROWD elements to a pandas DataFrame\n",
    "    def elements_to_dataframe(elements):\n",
    "        if not elements:\n",
    "            print(\"The table is empty or not found.\")\n",
    "            return pd.DataFrame()\n",
    "        \n",
    "        rows = []\n",
    "        columns = list(elements[0].attrib.keys())\n",
    "        \n",
    "        for elem in elements:\n",
    "            row_data = list(elem.attrib.values())\n",
    "            rows.append(row_data)\n",
    "        \n",
    "        df = pd.DataFrame(rows, columns=columns)\n",
    "        return df\n",
    "\n",
    "    # Convert the extracted elements to a DataFrame\n",
    "    dtro_rowd_df = elements_to_dataframe(dtro_rowd_elements)\n",
    "    \n",
    "except FileNotFoundError:\n",
    "    print(\"The specified file was not found.\")\n",
    "except ET.ParseError:\n",
    "    print(\"Error parsing the XML file.\")"
   ]
  },
  {
   "cell_type": "code",
   "execution_count": null,
   "id": "7333b775-1b35-4441-8582-e57d15da613e",
   "metadata": {},
   "outputs": [
    {
     "name": "stdout",
     "output_type": "stream",
     "text": [
      "Value is set\n",
      "('5724951366993448773', 'string')\n",
      "Value is set\n",
      "('5724951366993448773', 'string')\n",
      "Value is set\n",
      "('5724951366993448773', 'string')\n",
      "Value is set\n",
      "('5724951366993448773', 'string')\n",
      "Value is set\n",
      "('5724951366993448773', 'string')\n",
      "Value is set\n",
      "('5724951366993448773', 'string')\n",
      "Value is set\n",
      "('5724951366993448773', 'string')\n"
     ]
    }
   ],
   "source": [
    "for pipe_tk in pipe_tks:\n",
    "    s3s.SetValue(pipe_tk, \"FkdtroRowd\", str(dtro_rowd_df.iloc[15]['pk'])) #DN 150\n",
    "    print(s3s.GetValue(pipe_tk, \"FkdtroRowd\"))"
   ]
  },
  {
   "cell_type": "markdown",
   "id": "958f8f1e-d6ba-4a4c-a57d-abd0e074684d",
   "metadata": {},
   "source": [
    "# Boundary Conditions"
   ]
  },
  {
   "cell_type": "code",
   "execution_count": null,
   "id": "a12f9115-48ba-4908-bf1e-97efb8718ee5",
   "metadata": {},
   "outputs": [
    {
     "name": "stdout",
     "output_type": "stream",
     "text": [
      "Now you can make changes to the model\n",
      "Value is set\n",
      "Value is set\n",
      "Value is set\n",
      "Value is set\n",
      "Value is set\n",
      "Value is set\n",
      "Value is set\n",
      "Value is set\n",
      "Value is set\n",
      "Value is set\n",
      "Value is set\n",
      "Value is set\n",
      "Edit Session has ended. Please open up a new session if you want to make further changes\n",
      "Changes saved successfully\n"
     ]
    }
   ],
   "source": [
    "s3s.StartEditSession(SessionName=\"Set Boundary Conditions\")\n",
    "\n",
    "s3s.SetValue(node0, \"Ktyp\", \"PKON\")\n",
    "s3s.SetValue(node0, \"bz.PhEin\", \"4\")\n",
    "\n",
    "s3s.SetValue(node1, \"Ktyp\", \"QKON\")\n",
    "s3s.SetValue(node1, \"QmEin\", \"0\")\n",
    "\n",
    "s3s.SetValue(node2, \"Ktyp\", \"QKON\")\n",
    "s3s.SetValue(node2, \"QmEin\", \"0\")\n",
    "\n",
    "s3s.SetValue(node3, \"Ktyp\", \"QKON\")\n",
    "s3s.SetValue(node3, \"QmEin\", \"0\")\n",
    "\n",
    "s3s.SetValue(node4, \"Ktyp\", \"QKON\")\n",
    "s3s.SetValue(node4, \"QmEin\", \"0\")\n",
    "\n",
    "s3s.SetValue(node5, \"Ktyp\", \"PKON\")\n",
    "s3s.SetValue(node5, \"bz.PhEin\", \"3\")\n",
    "\n",
    "s3s.EndEditSession()\n",
    "s3s.SaveChanges()"
   ]
  },
  {
   "cell_type": "markdown",
   "id": "c8cf115a-9c3d-4338-8998-9f721f3bb71f",
   "metadata": {},
   "source": [
    "# Calculation"
   ]
  },
  {
   "cell_type": "code",
   "execution_count": null,
   "id": "44c90c18-0a95-4a9b-b819-13537ba02a33",
   "metadata": {},
   "outputs": [
    {
     "name": "stdout",
     "output_type": "stream",
     "text": [
      "Model Calculation is complete\n"
     ]
    }
   ],
   "source": [
    "s3s.ExecCalculation(waitForSirCalcToExit=True)"
   ]
  },
  {
   "cell_type": "code",
   "execution_count": null,
   "id": "165b4aed-dd15-499a-a0f6-68d9eca408e1",
   "metadata": {},
   "outputs": [
    {
     "name": "stdout",
     "output_type": "stream",
     "text": [
      "Node 5321099033247111201: x: 0, y: 25, PH: 4, QM: 115.7509\n",
      "Node 4693279059508338015: x: 100, y: 25, PH: 3.74013, QM: 0\n",
      "Node 5449145764669062959: x: 125, y: 50, PH: 3.5, QM: 0\n",
      "Node 5315913336781347732: x: 125, y: 0, PH: 3.5, QM: 0\n",
      "Node 5194369748158004646: x: 150, y: 25, PH: 3.25987, QM: 0\n",
      "Node 5210570430448112064: x: 250, y: 25, PH: 3, QM: -115.7509\n"
     ]
    }
   ],
   "source": [
    "for node_tk in node_tks:\n",
    "    print(f\"Node {node_tk}: x: {s3s.GetValue(node_tk, 'Xkor')[0]}, y: {s3s.GetValue(node_tk, 'Ykor')[0]}, PH: {s3s.GetValue(node_tk, 'Result.PH.Value')[0]}, QM: {s3s.GetValue(node_tk, 'Result.QM.Value')[0]}\")"
   ]
  },
  {
   "cell_type": "markdown",
   "id": "4d391b89-4aa2-464b-b62d-5366db4526bf",
   "metadata": {},
   "source": [
    "# Reset"
   ]
  },
  {
   "cell_type": "code",
   "execution_count": null,
   "id": "f3e65cb9-5286-405b-8b98-08eab9b8c5c2",
   "metadata": {},
   "outputs": [],
   "source": [
    "def wipe_elements(instance):\n",
    "    # Get lists of node and pipe IDs\n",
    "    node_tks = instance.GetTksofElementType(ElementType=Interfaces.Sir3SObjectTypes.Node)\n",
    "    pipe_tks = instance.GetTksofElementType(ElementType=Interfaces.Sir3SObjectTypes.Pipe)\n",
    "    \n",
    "    # Delete all nodes\n",
    "    for node_tk in node_tks:\n",
    "        instance.DeleteElement(node_tk)\n",
    "    \n",
    "    # Delete all pipes\n",
    "    for pipe_tk in pipe_tks:\n",
    "        instance.DeleteElement(pipe_tk)\n",
    "\n",
    "wipe_elements(s3s)"
   ]
  },
  {
   "cell_type": "code",
   "execution_count": null,
   "id": "b2c94579-572a-46e3-908e-471016236f37",
   "metadata": {},
   "outputs": [],
   "source": [
    "s3s.SaveChanges()"
   ]
  },
  {
   "cell_type": "markdown",
   "id": "c331155e-a637-4fdb-a723-65b5823ca212",
   "metadata": {},
   "source": [
    "# Collection of often needed Toolkit commands"
   ]
  },
  {
   "cell_type": "code",
   "execution_count": null,
   "id": "38d98d7e-aa44-4b0f-ac34-edaf37e8be82",
   "metadata": {},
   "outputs": [],
   "source": [
    "s3s.GetPropertiesofElementType(Interfaces.Sir3SObjectTypes.Pipe)"
   ]
  },
  {
   "cell_type": "code",
   "execution_count": null,
   "id": "0203792a-57f1-4e1d-984a-40ae29b4af87",
   "metadata": {},
   "outputs": [],
   "source": [
    "s3s.GetPropertiesofElementType(Interfaces.Sir3SObjectTypes.Node)"
   ]
  },
  {
   "cell_type": "code",
   "execution_count": null,
   "id": "2ee68e17-970e-4398-8c0e-b0606b20f06b",
   "metadata": {},
   "outputs": [],
   "source": [
    "pipe_tks=s3s.GetTksofElementType(Interfaces.Sir3SObjectTypes.Pipe)"
   ]
  },
  {
   "cell_type": "code",
   "execution_count": null,
   "id": "bb967765-514b-410e-a06d-d61fdb3df778",
   "metadata": {},
   "outputs": [],
   "source": [
    "node_tks=s3s.GetTksofElementType(Interfaces.Sir3SObjectTypes.Node)"
   ]
  },
  {
   "cell_type": "code",
   "execution_count": null,
   "id": "e5250184-a786-4114-afcb-079a08e68824",
   "metadata": {},
   "outputs": [],
   "source": [
    "dir(Interfaces.Sir3SObjectTypes)"
   ]
  },
  {
   "cell_type": "code",
   "execution_count": null,
   "id": "4ca92b6d-3b78-4649-921d-38a63016e7a0",
   "metadata": {},
   "outputs": [],
   "source": []
  }
 ],
 "metadata": {
  "kernelspec": {
   "display_name": "Python 3 (ipykernel)",
   "language": "python",
   "name": "python3"
  },
  "language_info": {
   "codemirror_mode": {
    "name": "ipython",
    "version": 3
   },
   "file_extension": ".py",
   "mimetype": "text/x-python",
   "name": "python",
   "nbconvert_exporter": "python",
   "pygments_lexer": "ipython3",
   "version": "3.11.8"
  }
 },
 "nbformat": 4,
 "nbformat_minor": 5
}
